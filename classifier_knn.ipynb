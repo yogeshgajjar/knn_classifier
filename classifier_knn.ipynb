{
 "cells": [
  {
   "cell_type": "markdown",
   "metadata": {},
   "source": [
    "# Classification using KNN \n",
    "\n",
    "## Method 1 \n",
    "### Using train_test_split method. "
   ]
  },
  {
   "cell_type": "code",
   "execution_count": 29,
   "metadata": {},
   "outputs": [],
   "source": [
    "import pandas as pd\n",
    "import numpy as np\n",
    "import matplotlib.pyplot as plt\n",
    "from sklearn.metrics import classification_report\n",
    "from sklearn.model_selection import train_test_split\n",
    "from sklearn.neighbors import KNeighborsClassifier\n",
    "from sklearn.metrics import confusion_matrix\n",
    "from sklearn.metrics import f1_score\n",
    "from sklearn.metrics import accuracy_score\n",
    "from sklearn.utils import shuffle"
   ]
  },
  {
   "cell_type": "code",
   "execution_count": 30,
   "metadata": {},
   "outputs": [
    {
     "data": {
      "text/html": [
       "<div>\n",
       "<style scoped>\n",
       "    .dataframe tbody tr th:only-of-type {\n",
       "        vertical-align: middle;\n",
       "    }\n",
       "\n",
       "    .dataframe tbody tr th {\n",
       "        vertical-align: top;\n",
       "    }\n",
       "\n",
       "    .dataframe thead th {\n",
       "        text-align: right;\n",
       "    }\n",
       "</style>\n",
       "<table border=\"1\" class=\"dataframe\">\n",
       "  <thead>\n",
       "    <tr style=\"text-align: right;\">\n",
       "      <th></th>\n",
       "      <th>pelvic_incidence</th>\n",
       "      <th>pelvic_tilt</th>\n",
       "      <th>lumbar_lordosis_angle</th>\n",
       "      <th>sacral_slope</th>\n",
       "      <th>pelvic_radius</th>\n",
       "      <th>degree_spondylolisthesis</th>\n",
       "      <th>class</th>\n",
       "    </tr>\n",
       "  </thead>\n",
       "  <tbody>\n",
       "    <tr>\n",
       "      <th>0</th>\n",
       "      <td>63.027818</td>\n",
       "      <td>22.552586</td>\n",
       "      <td>39.609117</td>\n",
       "      <td>40.475232</td>\n",
       "      <td>98.672917</td>\n",
       "      <td>-0.254400</td>\n",
       "      <td>Abnormal</td>\n",
       "    </tr>\n",
       "    <tr>\n",
       "      <th>1</th>\n",
       "      <td>39.056951</td>\n",
       "      <td>10.060991</td>\n",
       "      <td>25.015378</td>\n",
       "      <td>28.995960</td>\n",
       "      <td>114.405425</td>\n",
       "      <td>4.564259</td>\n",
       "      <td>Abnormal</td>\n",
       "    </tr>\n",
       "    <tr>\n",
       "      <th>2</th>\n",
       "      <td>68.832021</td>\n",
       "      <td>22.218482</td>\n",
       "      <td>50.092194</td>\n",
       "      <td>46.613539</td>\n",
       "      <td>105.985135</td>\n",
       "      <td>-3.530317</td>\n",
       "      <td>Abnormal</td>\n",
       "    </tr>\n",
       "    <tr>\n",
       "      <th>3</th>\n",
       "      <td>69.297008</td>\n",
       "      <td>24.652878</td>\n",
       "      <td>44.311238</td>\n",
       "      <td>44.644130</td>\n",
       "      <td>101.868495</td>\n",
       "      <td>11.211523</td>\n",
       "      <td>Abnormal</td>\n",
       "    </tr>\n",
       "    <tr>\n",
       "      <th>4</th>\n",
       "      <td>49.712859</td>\n",
       "      <td>9.652075</td>\n",
       "      <td>28.317406</td>\n",
       "      <td>40.060784</td>\n",
       "      <td>108.168725</td>\n",
       "      <td>7.918501</td>\n",
       "      <td>Abnormal</td>\n",
       "    </tr>\n",
       "  </tbody>\n",
       "</table>\n",
       "</div>"
      ],
      "text/plain": [
       "   pelvic_incidence  pelvic_tilt  lumbar_lordosis_angle  sacral_slope  \\\n",
       "0         63.027818    22.552586              39.609117     40.475232   \n",
       "1         39.056951    10.060991              25.015378     28.995960   \n",
       "2         68.832021    22.218482              50.092194     46.613539   \n",
       "3         69.297008    24.652878              44.311238     44.644130   \n",
       "4         49.712859     9.652075              28.317406     40.060784   \n",
       "\n",
       "   pelvic_radius  degree_spondylolisthesis     class  \n",
       "0      98.672917                 -0.254400  Abnormal  \n",
       "1     114.405425                  4.564259  Abnormal  \n",
       "2     105.985135                 -3.530317  Abnormal  \n",
       "3     101.868495                 11.211523  Abnormal  \n",
       "4     108.168725                  7.918501  Abnormal  "
      ]
     },
     "execution_count": 30,
     "metadata": {},
     "output_type": "execute_result"
    }
   ],
   "source": [
    "data = pd.read_csv(\"column_2C_weka.csv\")\n",
    "df = pd.DataFrame(data)\n",
    "df.head()"
   ]
  },
  {
   "cell_type": "code",
   "execution_count": 47,
   "metadata": {},
   "outputs": [],
   "source": [
    "X = df.iloc[:, 0:6]\n",
    "Y = df.loc[:, 'class']"
   ]
  },
  {
   "cell_type": "code",
   "execution_count": 48,
   "metadata": {},
   "outputs": [],
   "source": [
    "X_train, X_test, y_train, y_test = train_test_split(X,Y, test_size = 0.2)"
   ]
  },
  {
   "cell_type": "code",
   "execution_count": 49,
   "metadata": {},
   "outputs": [
    {
     "name": "stdout",
     "output_type": "stream",
     "text": [
      "Minimum Error is: 0.048387096774193505\n",
      "Optimal K = 39\n"
     ]
    }
   ],
   "source": [
    "# Initializing lists\n",
    "test_error = []\n",
    "min_test = []\n",
    "k_star = 0\n",
    "k_values = [x for x in range(1, 200, 1)]\n",
    "\n",
    "# Loop for varying the k values and finding test * train error for plotting. \n",
    "for k in k_values:\n",
    "    classifier = KNeighborsClassifier(n_neighbors= k, p=2, metric= 'euclidean')  # Instantiating the KNN model using sklearn\n",
    "    classifier.fit(X_train,y_train)\n",
    "    y_pred = classifier.predict(X_test)\n",
    "    test_error.append(1- accuracy_score(y_test,y_pred)) #calculating test error\n",
    " \n",
    "# Determining K* from test error\n",
    "min_test= min(test_error)\n",
    "print(\"Minimum Error is:\", min_test)    \n",
    "index1 = test_error.index(min_test)\n",
    "k_star = 1+index1       # If the interval is 1, we can get k* by subtracting it with 208. \n",
    "print(\"Optimal K =\", k_star)"
   ]
  },
  {
   "cell_type": "code",
   "execution_count": 50,
   "metadata": {},
   "outputs": [
    {
     "name": "stdout",
     "output_type": "stream",
     "text": [
      "CONFUSION MATRIX TABLE: \n",
      " \n",
      "Predicted  Abnormal  Normal  All\n",
      "True                            \n",
      "Abnormal         36       2   38\n",
      "Normal            1      23   24\n",
      "All              37      25   62\n",
      " \n",
      "TRUE POSITIVE RATE: 0.9473684210526315\n",
      "TRUE NEGATIVE RATE: 0.9583333333333334\n",
      "\n",
      "CLASSIFICATION REPORT: \n",
      "              precision    recall  f1-score   support\n",
      "\n",
      "    Abnormal       0.97      0.95      0.96        38\n",
      "      Normal       0.92      0.96      0.94        24\n",
      "\n",
      "   micro avg       0.95      0.95      0.95        62\n",
      "   macro avg       0.95      0.95      0.95        62\n",
      "weighted avg       0.95      0.95      0.95        62\n",
      "\n"
     ]
    }
   ],
   "source": [
    "classifier = KNeighborsClassifier(n_neighbors=39, p=2, metric= 'euclidean')  #49 if interval is -3 and 3 if interval is -1\n",
    "classifier.fit(X_train, y_train)\n",
    "y_pred = classifier.predict(X_test)\n",
    "\n",
    "#Confusion Matrix calculation \n",
    "print(\"CONFUSION MATRIX TABLE: \")\n",
    "print(\" \")\n",
    "print(pd.crosstab(y_test, y_pred, rownames=['True'], colnames=['Predicted'], margins=True)) \n",
    "print(\" \")\n",
    "\n",
    "# True Positive and True Negative Rate using confusion Matrix\n",
    "con = confusion_matrix(y_test, y_pred)\n",
    "tpr = float(con[0][0] / (con[0][0] + con[0][1]))\n",
    "print(\"TRUE POSITIVE RATE:\", tpr)\n",
    "tnr = float(con[1][1] / (con[1][1] + con[1][0]))\n",
    "print(\"TRUE NEGATIVE RATE:\", tnr)\n",
    "print(\"\")\n",
    "\n",
    "#Classificiation Report which includes F-1 score and Precision\n",
    "print(\"CLASSIFICATION REPORT: \")\n",
    "print(classification_report(y_test,y_pred))\n"
   ]
  },
  {
   "cell_type": "markdown",
   "metadata": {},
   "source": [
    "## Method 2 \n",
    "### Splitting by selecting the first 70 rows of Class 0 and the first 140 rows of Class 1 as the training and the rest of the data as the test set"
   ]
  },
  {
   "cell_type": "code",
   "execution_count": 51,
   "metadata": {},
   "outputs": [],
   "source": [
    "train_ab= df.iloc[0:140, 0:7]\n",
    "train_n = df.iloc[210:280, 0:7]\n",
    "train = pd.concat([train_ab, train_n]) # train - DataFrame with training data\n",
    "\n",
    "test_ab = df.iloc[140:210, 0:7]\n",
    "test_n = df.iloc[280:310, 0:7]\n",
    "test = pd.concat([test_ab, test_n]) # test - DataFrame with test data"
   ]
  },
  {
   "cell_type": "code",
   "execution_count": 43,
   "metadata": {},
   "outputs": [],
   "source": [
    "# Dividing the data into x_train(features), x_test(labels), y_train(features), y_test(label)\n",
    "\n",
    "x_train = train.iloc[:, 0:6]\n",
    "y_train = train.loc[:, 'class']\n",
    "x_test = test.iloc[:, 0:6]\n",
    "y_test = test.loc[:, 'class']\n",
    "\n",
    "# Shuffling the data\n",
    "x_train = shuffle(x_train, random_state = 7)\n",
    "x_test = shuffle(x_test, random_state = 7)\n",
    "y_train = shuffle(y_train, random_state = 7)\n",
    "y_test = shuffle(y_test, random_state = 7)"
   ]
  },
  {
   "cell_type": "code",
   "execution_count": 44,
   "metadata": {},
   "outputs": [
    {
     "name": "stdout",
     "output_type": "stream",
     "text": [
      "Minimum Error is: 0.07999999999999996\n",
      "Optimal K = 3\n"
     ]
    }
   ],
   "source": [
    " # Initializing lists\n",
    "test_error = []\n",
    "min_test = []\n",
    "k_star = 0\n",
    "k_values = [x for x in range(1, 200, 1)]\n",
    "\n",
    "# Loop for varying the k values and finding test * train error for plotting. \n",
    "for k in k_values:\n",
    "    classifier = KNeighborsClassifier(n_neighbors= k, p=2, metric= 'euclidean')  # Instantiating the KNN model using sklearn\n",
    "    classifier.fit(x_train,y_train)\n",
    "    y_pred_test = classifier.predict(x_test)\n",
    "    test_error.append(1- accuracy_score(y_test,y_pred_test))\n",
    " \n",
    "# Determining K* from test error\n",
    "min_test= min(test_error)\n",
    "print(\"Minimum Error is:\", min_test)    \n",
    "index1 = test_error.index(min_test)\n",
    "k_star = 1+index1          # If the interval is 1, we can get k* by subtracting it with 208. \n",
    "print(\"Optimal K =\", k_star)"
   ]
  },
  {
   "cell_type": "code",
   "execution_count": 46,
   "metadata": {},
   "outputs": [
    {
     "name": "stdout",
     "output_type": "stream",
     "text": [
      "CONFUSION MATRIX TABLE: \n",
      " \n",
      "Predicted  Abnormal  Normal  All\n",
      "True                            \n",
      "Abnormal         69       1   70\n",
      "Normal            7      23   30\n",
      "All              76      24  100\n",
      " \n",
      "TRUE POSITIVE RATE: 0.9857142857142858\n",
      "TRUE NEGATIVE RATE: 0.7666666666666667\n",
      "\n",
      "CLASSIFICATION REPORT: \n",
      "              precision    recall  f1-score   support\n",
      "\n",
      "    Abnormal       0.91      0.99      0.95        70\n",
      "      Normal       0.96      0.77      0.85        30\n",
      "\n",
      "   micro avg       0.92      0.92      0.92       100\n",
      "   macro avg       0.93      0.88      0.90       100\n",
      "weighted avg       0.92      0.92      0.92       100\n",
      "\n"
     ]
    }
   ],
   "source": [
    "classifier = KNeighborsClassifier(n_neighbors=3, p=2, metric= 'euclidean')  #49 if interval is -3 and 3 if interval is -1\n",
    "classifier.fit(x_train, y_train)\n",
    "y_pred = classifier.predict(x_test)\n",
    "\n",
    "#Confusion Matrix calculation \n",
    "print(\"CONFUSION MATRIX TABLE: \")\n",
    "print(\" \")\n",
    "print(pd.crosstab(y_test, y_pred, rownames=['True'], colnames=['Predicted'], margins=True)) \n",
    "print(\" \")\n",
    "\n",
    "# True Positive and True Negative Rate using confusion Matrix\n",
    "con = confusion_matrix(y_test, y_pred)\n",
    "tpr = float(con[0][0] / (con[0][0] + con[0][1]))\n",
    "print(\"TRUE POSITIVE RATE:\", tpr)\n",
    "tnr = float(con[1][1] / (con[1][1] + con[1][0]))\n",
    "print(\"TRUE NEGATIVE RATE:\", tnr)\n",
    "print(\"\")\n",
    "\n",
    "#Classificiation Report which includes F-1 score and Precision\n",
    "print(\"CLASSIFICATION REPORT: \")\n",
    "print(classification_report(y_test,y_pred))\n"
   ]
  },
  {
   "cell_type": "code",
   "execution_count": null,
   "metadata": {},
   "outputs": [],
   "source": []
  }
 ],
 "metadata": {
  "kernelspec": {
   "display_name": "Python 3",
   "language": "python",
   "name": "python3"
  },
  "language_info": {
   "codemirror_mode": {
    "name": "ipython",
    "version": 3
   },
   "file_extension": ".py",
   "mimetype": "text/x-python",
   "name": "python",
   "nbconvert_exporter": "python",
   "pygments_lexer": "ipython3",
   "version": "3.7.3"
  }
 },
 "nbformat": 4,
 "nbformat_minor": 2
}
